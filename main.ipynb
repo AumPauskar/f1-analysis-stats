{
 "cells": [
  {
   "cell_type": "markdown",
   "metadata": {},
   "source": [
    "# F1 data anaysis using pandas"
   ]
  },
  {
   "cell_type": "markdown",
   "metadata": {},
   "source": [
    "## Prologue\n",
    "In this notebook, an analysis of the F1 data is performed using the pandas library. The data is loaded [f1-telem-web-app](https://github.com/AumPauskar/f1-telem-webapp). Docker image may be downloaded from [here](https://hub.docker.com/repository/docker/aumpauskar/f1-flaskapp/general) provided you are running on a linux (debian) based machine. "
   ]
  },
  {
   "cell_type": "markdown",
   "metadata": {},
   "source": [
    "## About the data\n",
    "\n",
    "This data is collected from the 2024 Monaco Grand Prix the historial race which is being run since 1929. In Monaco/Monte Carlo a race victory is historically ensured by **qualifying results** rather than the race.\n",
    "\n",
    "**What is qualifying?**\\\n",
    "Qualifying is a session that determines the starting order of cars in the race. The person who sets the fastest lap time starts at the front of the grid. The person who sets the slowest lap time starts at the back of the grid. Since Monaco is a street circuit, it is very difficult to overtake. Hence, the starting position is very important. \n",
    "\n",
    "**Format of qualifying**\\\n",
    "The qualifying session is divided into three parts. The first part is called Q1, the second part is called Q2, and the third part is called Q3. The slowest 5 cars are eliminated in Q1, from the remaining cars, the slowest 5 cars are eliminated in Q2. The remaining 10 cars compete in Q3 to determine the starting order of the top 10 cars. Laptimes may not be comparable between Q1, Q2, and Q3 because the track gets faster as the rubber is laid down on the track, slight changes in weather, track temperature, wind speed, etc. These factors may not be huge but they are enough between \"pole position\" and elimination in Q1."
   ]
  },
  {
   "cell_type": "markdown",
   "metadata": {},
   "source": [
    "## Cleaning the data\n",
    "\n",
    "In qualifying drivers do \"fast laps\" and \"slow laps\". Fast laps are the one which we are actually interested in and slow laps are the ones where the driver is either warming up the tires, cooling down the engine, charging the battery, etc. We need to filter out the slow laps. By using the **multiviewer for f1** app we can check which telemetry data is the fast lap and which is the slow lap.\n",
    "\n",
    "In Q1 the fastest driver was **George Russell** and the slowest driver was **Zhou Guanyu**. \n",
    "\n",
    "**George Russell** set his fastest lap in Q1 at the time marker of **00:18:25** a time of. And **Zhou Guanyu** started at the **00:20:00** time marker."
   ]
  },
  {
   "cell_type": "code",
   "execution_count": null,
   "metadata": {},
   "outputs": [],
   "source": [
    "# displaying cleaed data"
   ]
  },
  {
   "cell_type": "markdown",
   "metadata": {},
   "source": [
    "From this we can analyze the mean, median, mode, and standard deviation of the lap times of the drivers in Q1."
   ]
  }
 ],
 "metadata": {
  "language_info": {
   "name": "python"
  }
 },
 "nbformat": 4,
 "nbformat_minor": 2
}
