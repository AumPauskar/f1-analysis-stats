{
 "cells": [
  {
   "cell_type": "markdown",
   "metadata": {},
   "source": [
    "# F1 data anaysis using pandas"
   ]
  },
  {
   "cell_type": "markdown",
   "metadata": {},
   "source": [
    "## Prologue\n",
    "In this notebook, an analysis of the F1 data is performed using the pandas library. The data is loaded [f1-telem-web-app](https://github.com/AumPauskar/f1-telem-webapp). Docker image may be downloaded from [here](https://hub.docker.com/repository/docker/aumpauskar/f1-flaskapp/general) provided you are running on a linux (debian) based machine. "
   ]
  },
  {
   "cell_type": "markdown",
   "metadata": {},
   "source": [
    "## About the data\n",
    "\n",
    "This data is collected from the 2024 Monaco Grand Prix the historial race which is being run since 1929. In Monaco/Monte Carlo a race victory is historically ensured by **qualifying results** rather than the race.\n",
    "\n",
    "**What is qualifying?**\\\n",
    "Qualifying is a session that determines the starting order of cars in the race. The person who sets the fastest lap time starts at the front of the grid. The person who sets the slowest lap time starts at the back of the grid. Since Monaco is a street circuit, it is very difficult to overtake. Hence, the starting position is very important. "
   ]
  }
 ],
 "metadata": {
  "language_info": {
   "name": "python"
  }
 },
 "nbformat": 4,
 "nbformat_minor": 2
}
